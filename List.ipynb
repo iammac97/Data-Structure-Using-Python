{
 "cells": [
  {
   "cell_type": "markdown",
   "id": "6417a545",
   "metadata": {},
   "source": [
    "# List:-A list can have any number of items and they may be of different types (integer, float, string, etc.).A list can be nested."
   ]
  },
  {
   "cell_type": "code",
   "execution_count": 21,
   "id": "15acc747",
   "metadata": {},
   "outputs": [],
   "source": [
    "l1=[3,5,76,4.34,'Raj']"
   ]
  },
  {
   "cell_type": "code",
   "execution_count": 22,
   "id": "51b9d89c",
   "metadata": {},
   "outputs": [
    {
     "name": "stdout",
     "output_type": "stream",
     "text": [
      "[3, 5, 76, 4.34, 'Raj']\n"
     ]
    }
   ],
   "source": [
    "print(l1)"
   ]
  },
  {
   "cell_type": "markdown",
   "id": "c1af5dc6",
   "metadata": {},
   "source": [
    "Basic operations & methods of List"
   ]
  },
  {
   "cell_type": "code",
   "execution_count": 23,
   "id": "e0b37f8d",
   "metadata": {},
   "outputs": [
    {
     "data": {
      "text/plain": [
       "[3, 5, 76, 4.34]"
      ]
     },
     "execution_count": 23,
     "metadata": {},
     "output_type": "execute_result"
    }
   ],
   "source": [
    "l1[:-1]#slicing the list"
   ]
  },
  {
   "cell_type": "code",
   "execution_count": 24,
   "id": "4dc12ecc",
   "metadata": {},
   "outputs": [
    {
     "data": {
      "text/plain": [
       "[5, 76, 4.34, 'Raj']"
      ]
     },
     "execution_count": 24,
     "metadata": {},
     "output_type": "execute_result"
    }
   ],
   "source": [
    "l1[1:5]"
   ]
  },
  {
   "cell_type": "code",
   "execution_count": 25,
   "id": "48043065",
   "metadata": {},
   "outputs": [
    {
     "data": {
      "text/plain": [
       "[3, 76, 'Raj']"
      ]
     },
     "execution_count": 25,
     "metadata": {},
     "output_type": "execute_result"
    }
   ],
   "source": [
    "l1[0::2]"
   ]
  },
  {
   "cell_type": "code",
   "execution_count": 26,
   "id": "72589b2e",
   "metadata": {},
   "outputs": [
    {
     "data": {
      "text/plain": [
       "[3, 5, 76, 4.34, 'Raj', 12]"
      ]
     },
     "execution_count": 26,
     "metadata": {},
     "output_type": "execute_result"
    }
   ],
   "source": [
    "#appending\n",
    "l1.append(12)\n",
    "l1"
   ]
  },
  {
   "cell_type": "code",
   "execution_count": 27,
   "id": "e7633c5b",
   "metadata": {},
   "outputs": [
    {
     "data": {
      "text/plain": [
       "[3, 5, 76, 4.34, 'Raj']"
      ]
     },
     "execution_count": 27,
     "metadata": {},
     "output_type": "execute_result"
    }
   ],
   "source": [
    "#popping last element\n",
    "l1.pop()\n",
    "l1"
   ]
  },
  {
   "cell_type": "code",
   "execution_count": 28,
   "id": "efe13e78",
   "metadata": {},
   "outputs": [
    {
     "data": {
      "text/plain": [
       "4.34"
      ]
     },
     "execution_count": 28,
     "metadata": {},
     "output_type": "execute_result"
    }
   ],
   "source": [
    "#popping any specific index    Its similar to remove but pop() return a value(that removed) and remove does not return any value\n",
    "l1.pop(3)"
   ]
  },
  {
   "cell_type": "code",
   "execution_count": 29,
   "id": "c480ea84",
   "metadata": {},
   "outputs": [],
   "source": [
    "#remove any specific element ye same as pop but it not return anything but pop() return which element deleted and also it working on element but pop() working on index \n",
    "l1.remove(5)"
   ]
  },
  {
   "cell_type": "code",
   "execution_count": 30,
   "id": "e3286b68",
   "metadata": {},
   "outputs": [
    {
     "data": {
      "text/plain": [
       "[3, 76, 200]"
      ]
     },
     "execution_count": 30,
     "metadata": {},
     "output_type": "execute_result"
    }
   ],
   "source": [
    "#Updation of a list\n",
    "l1[2]=200\n",
    "l1"
   ]
  },
  {
   "cell_type": "code",
   "execution_count": 31,
   "id": "e303c351",
   "metadata": {},
   "outputs": [],
   "source": [
    "l1.append(2.3)\n",
    "l1.append(40)\n",
    "l1.append(\"Mac\")"
   ]
  },
  {
   "cell_type": "code",
   "execution_count": 32,
   "id": "cf6d2a9c",
   "metadata": {},
   "outputs": [
    {
     "data": {
      "text/plain": [
       "[3, 76, 200, 2.3, 40, 'Mac']"
      ]
     },
     "execution_count": 32,
     "metadata": {},
     "output_type": "execute_result"
    }
   ],
   "source": [
    "l1"
   ]
  },
  {
   "cell_type": "code",
   "execution_count": 33,
   "id": "399fdf4a",
   "metadata": {},
   "outputs": [
    {
     "data": {
      "text/plain": [
       "[3, 40, 'Mac']"
      ]
     },
     "execution_count": 33,
     "metadata": {},
     "output_type": "execute_result"
    }
   ],
   "source": [
    "#delete element from specific index to diff index\n",
    "del l1[1:4]\n",
    "l1"
   ]
  },
  {
   "cell_type": "code",
   "execution_count": 38,
   "id": "7337ed4d",
   "metadata": {},
   "outputs": [],
   "source": [
    "l1=[23,45,70,'Mac',4.16,56]"
   ]
  },
  {
   "cell_type": "code",
   "execution_count": 39,
   "id": "7481c3c7",
   "metadata": {},
   "outputs": [],
   "source": [
    "l1[5]=[43,78,60,54]"
   ]
  },
  {
   "cell_type": "code",
   "execution_count": 40,
   "id": "dd0d620b",
   "metadata": {},
   "outputs": [
    {
     "data": {
      "text/plain": [
       "[23, 45, 70, 'Mac', 4.16, [43, 78, 60, 54]]"
      ]
     },
     "execution_count": 40,
     "metadata": {},
     "output_type": "execute_result"
    }
   ],
   "source": [
    "# nested List\n",
    "l1"
   ]
  },
  {
   "cell_type": "code",
   "execution_count": 42,
   "id": "4f703324",
   "metadata": {},
   "outputs": [
    {
     "name": "stdout",
     "output_type": "stream",
     "text": [
      "23\n",
      "45\n",
      "70\n",
      "Mac\n",
      "4.16\n",
      "[43, 78, 60, 54]\n"
     ]
    }
   ],
   "source": [
    "#Access the element of lists\n",
    "for i in l1:\n",
    "    print(i)\n"
   ]
  },
  {
   "cell_type": "code",
   "execution_count": 45,
   "id": "7bd0be8c",
   "metadata": {},
   "outputs": [
    {
     "name": "stdout",
     "output_type": "stream",
     "text": [
      "23\n",
      "45\n",
      "70\n",
      "Mac\n",
      "4.16\n",
      "[43, 78, 60, 54]\n"
     ]
    }
   ],
   "source": [
    "for i in range(len(l1)):\n",
    "    print(l1[i])"
   ]
  },
  {
   "cell_type": "code",
   "execution_count": 50,
   "id": "55b5e131",
   "metadata": {},
   "outputs": [
    {
     "data": {
      "text/plain": [
       "True"
      ]
     },
     "execution_count": 50,
     "metadata": {},
     "output_type": "execute_result"
    }
   ],
   "source": [
    "4 not in l1#it will return true if available in list o/w false\n",
    "# 4 in l1"
   ]
  },
  {
   "cell_type": "code",
   "execution_count": 52,
   "id": "5436ba63",
   "metadata": {},
   "outputs": [],
   "source": [
    "l1=[34,65,78,90,23,43,56]"
   ]
  },
  {
   "cell_type": "code",
   "execution_count": 53,
   "id": "8de482ab",
   "metadata": {},
   "outputs": [
    {
     "data": {
      "text/plain": [
       "23"
      ]
     },
     "execution_count": 53,
     "metadata": {},
     "output_type": "execute_result"
    }
   ],
   "source": [
    "min(l1)"
   ]
  },
  {
   "cell_type": "code",
   "execution_count": 54,
   "id": "58605383",
   "metadata": {},
   "outputs": [
    {
     "data": {
      "text/plain": [
       "90"
      ]
     },
     "execution_count": 54,
     "metadata": {},
     "output_type": "execute_result"
    }
   ],
   "source": [
    "max(l1)"
   ]
  },
  {
   "cell_type": "code",
   "execution_count": 58,
   "id": "2a2a2e8e",
   "metadata": {},
   "outputs": [
    {
     "data": {
      "text/plain": [
       "389"
      ]
     },
     "execution_count": 58,
     "metadata": {},
     "output_type": "execute_result"
    }
   ],
   "source": [
    "sum(l1)"
   ]
  },
  {
   "cell_type": "code",
   "execution_count": 59,
   "id": "b8fe1e88",
   "metadata": {},
   "outputs": [],
   "source": [
    "l1=[2,4,0,8,0]"
   ]
  },
  {
   "cell_type": "code",
   "execution_count": 60,
   "id": "bbdeefa2",
   "metadata": {},
   "outputs": [
    {
     "data": {
      "text/plain": [
       "False"
      ]
     },
     "execution_count": 60,
     "metadata": {},
     "output_type": "execute_result"
    }
   ],
   "source": [
    "all(l1)#all() function returns true if all the list items are true   (here false mean 0 and true means any elements except)"
   ]
  },
  {
   "cell_type": "code",
   "execution_count": 61,
   "id": "0de209f7",
   "metadata": {},
   "outputs": [
    {
     "data": {
      "text/plain": [
       "True"
      ]
     },
     "execution_count": 61,
     "metadata": {},
     "output_type": "execute_result"
    }
   ],
   "source": [
    "any(l1)# any() method returns true if any of the list items are true"
   ]
  },
  {
   "cell_type": "code",
   "execution_count": 62,
   "id": "8d226125",
   "metadata": {},
   "outputs": [
    {
     "data": {
      "text/plain": [
       "[0, 0, 2, 4, 8]"
      ]
     },
     "execution_count": 62,
     "metadata": {},
     "output_type": "execute_result"
    }
   ],
   "source": [
    "sorted(l1)"
   ]
  },
  {
   "cell_type": "code",
   "execution_count": 63,
   "id": "a956ded2",
   "metadata": {},
   "outputs": [],
   "source": [
    "str1=\"welcome\""
   ]
  },
  {
   "cell_type": "code",
   "execution_count": 64,
   "id": "8d531037",
   "metadata": {},
   "outputs": [],
   "source": [
    "#convert string to list\n",
    "l3=list(str1)"
   ]
  },
  {
   "cell_type": "code",
   "execution_count": 65,
   "id": "749c649c",
   "metadata": {},
   "outputs": [
    {
     "data": {
      "text/plain": [
       "['w', 'e', 'l', 'c', 'o', 'm', 'e']"
      ]
     },
     "execution_count": 65,
     "metadata": {},
     "output_type": "execute_result"
    }
   ],
   "source": [
    "l3"
   ]
  },
  {
   "cell_type": "code",
   "execution_count": 66,
   "id": "b8da6c7f",
   "metadata": {},
   "outputs": [
    {
     "data": {
      "text/plain": [
       "2"
      ]
     },
     "execution_count": 66,
     "metadata": {},
     "output_type": "execute_result"
    }
   ],
   "source": [
    "#count specific element of the list\n",
    "l3.count('e')"
   ]
  },
  {
   "cell_type": "code",
   "execution_count": 67,
   "id": "738e2519",
   "metadata": {},
   "outputs": [
    {
     "data": {
      "text/plain": [
       "1"
      ]
     },
     "execution_count": 67,
     "metadata": {},
     "output_type": "execute_result"
    }
   ],
   "source": [
    "# index method will return the index of the given element if elements are duplicate then it will return the index of the first element\n",
    "l3.index('e')"
   ]
  },
  {
   "cell_type": "code",
   "execution_count": 74,
   "id": "e2968a9f",
   "metadata": {},
   "outputs": [
    {
     "data": {
      "text/plain": [
       "[25, 0, 100, 8, 0, 100, 4, 2]"
      ]
     },
     "execution_count": 74,
     "metadata": {},
     "output_type": "execute_result"
    }
   ],
   "source": [
    "l1"
   ]
  },
  {
   "cell_type": "code",
   "execution_count": 75,
   "id": "5e053c43",
   "metadata": {},
   "outputs": [],
   "source": [
    "l1.append(25) # does not return any values"
   ]
  },
  {
   "cell_type": "code",
   "execution_count": 76,
   "id": "cc216c52",
   "metadata": {},
   "outputs": [],
   "source": [
    "#insert a element in a specific index\n",
    "l1.insert(2,100)   #does not return any values"
   ]
  },
  {
   "cell_type": "code",
   "execution_count": 78,
   "id": "37d240ec",
   "metadata": {},
   "outputs": [
    {
     "data": {
      "text/plain": [
       "[25, 0, 100, 100, 8, 0, 100, 4, 2, 25]"
      ]
     },
     "execution_count": 78,
     "metadata": {},
     "output_type": "execute_result"
    }
   ],
   "source": [
    "l1"
   ]
  },
  {
   "cell_type": "code",
   "execution_count": 79,
   "id": "2357a2f4",
   "metadata": {},
   "outputs": [],
   "source": [
    "l1.reverse() #Does not return any values"
   ]
  },
  {
   "cell_type": "code",
   "execution_count": 80,
   "id": "594e1bb7",
   "metadata": {},
   "outputs": [
    {
     "data": {
      "text/plain": [
       "[25, 2, 4, 100, 0, 8, 100, 100, 0, 25]"
      ]
     },
     "execution_count": 80,
     "metadata": {},
     "output_type": "execute_result"
    }
   ],
   "source": [
    "l1"
   ]
  },
  {
   "cell_type": "code",
   "execution_count": 81,
   "id": "5a0aeb06",
   "metadata": {},
   "outputs": [],
   "source": [
    "l1.sort()  #Does not return any values"
   ]
  },
  {
   "cell_type": "code",
   "execution_count": 82,
   "id": "f81cd368",
   "metadata": {},
   "outputs": [
    {
     "data": {
      "text/plain": [
       "[0, 0, 2, 4, 8, 25, 25, 100, 100, 100]"
      ]
     },
     "execution_count": 82,
     "metadata": {},
     "output_type": "execute_result"
    }
   ],
   "source": [
    "l1"
   ]
  },
  {
   "cell_type": "code",
   "execution_count": 84,
   "id": "a5930a76",
   "metadata": {},
   "outputs": [],
   "source": [
    "l2=[23,45,78,82,4,9]"
   ]
  },
  {
   "cell_type": "code",
   "execution_count": 85,
   "id": "75f41813",
   "metadata": {},
   "outputs": [],
   "source": [
    "# l2 extend into l1\n",
    "l1.extend(l2)  #Does not return any values"
   ]
  },
  {
   "cell_type": "code",
   "execution_count": 86,
   "id": "4ef5454a",
   "metadata": {},
   "outputs": [
    {
     "data": {
      "text/plain": [
       "[0, 0, 2, 4, 8, 25, 25, 100, 100, 100, 23, 45, 78, 82, 4, 9]"
      ]
     },
     "execution_count": 86,
     "metadata": {},
     "output_type": "execute_result"
    }
   ],
   "source": [
    "l1"
   ]
  },
  {
   "cell_type": "markdown",
   "id": "d4dea720",
   "metadata": {},
   "source": [
    "NOTE:-append,insert,sort,reverse,remove,extend all methods only modify the list and do not return any values"
   ]
  },
  {
   "cell_type": "markdown",
   "id": "6811d070",
   "metadata": {},
   "source": [
    "# List Comprehensions"
   ]
  },
  {
   "cell_type": "code",
   "execution_count": 87,
   "id": "fa82b4d1",
   "metadata": {},
   "outputs": [
    {
     "name": "stdout",
     "output_type": "stream",
     "text": [
      "Square of number from 1-10 is: [1, 4, 9, 16, 25, 36, 49, 64, 81, 100]\n"
     ]
    }
   ],
   "source": [
    "sq=[]\n",
    "for i in range (1,11):\n",
    "    sq.append(i**2)\n",
    "print(\"Square of number from 1-10 is:\",sq)"
   ]
  },
  {
   "cell_type": "code",
   "execution_count": 88,
   "id": "361fd1d0",
   "metadata": {},
   "outputs": [
    {
     "name": "stdout",
     "output_type": "stream",
     "text": [
      "Square of number from 1-10 is: [1, 4, 9, 16, 25, 36, 49, 64, 81, 100]\n"
     ]
    }
   ],
   "source": [
    "sq=[i**2 for i in range(1,11)]\n",
    "print(\"Square of number from 1-10 is:\",sq)"
   ]
  },
  {
   "cell_type": "code",
   "execution_count": 89,
   "id": "e32987c3",
   "metadata": {},
   "outputs": [
    {
     "name": "stdout",
     "output_type": "stream",
     "text": [
      "[1, 8, 27, 64, 125, 216, 343, 512, 729, 1000]\n"
     ]
    }
   ],
   "source": [
    "#Ninza technique🤩\n",
    "cub=[i**3 for i in range(1,11)]\n",
    "print(cub)"
   ]
  },
  {
   "cell_type": "code",
   "execution_count": 90,
   "id": "149e000e",
   "metadata": {},
   "outputs": [
    {
     "name": "stdout",
     "output_type": "stream",
     "text": [
      "[(12, 10), (12, 16), (12, 28), (23, 10), (23, 12), (23, 16), (23, 28), (21, 10), (21, 12), (21, 16), (21, 28), (20, 10), (20, 12), (20, 16), (20, 28)]\n"
     ]
    }
   ],
   "source": [
    "#Program to combine two list using list comprehnsion\n",
    "print([(x,y) for x in [12,23,21,20] for y in [10,12,16,28] if x!=y])   #Ninza technique for hackerrank"
   ]
  },
  {
   "cell_type": "code",
   "execution_count": 94,
   "id": "608c6763",
   "metadata": {},
   "outputs": [
    {
     "name": "stdout",
     "output_type": "stream",
     "text": [
      "[(2, 20), (2, 22), (2, 24), (2, 26), (2, 28), (2, 30), (2, 32), (2, 34), (2, 36), (2, 38), (3, 21), (3, 24), (3, 27), (3, 30), (3, 33), (3, 36), (3, 39), (4, 20), (4, 24), (4, 28), (4, 32), (4, 36), (5, 20), (5, 25), (5, 30), (5, 35), (6, 24), (6, 30), (6, 36), (7, 21), (7, 28), (7, 35), (8, 24), (8, 32), (9, 27), (9, 36), (10, 20), (10, 30), (11, 22), (11, 33), (12, 24), (12, 36), (13, 26), (13, 39), (14, 28), (15, 30), (16, 32), (17, 34), (18, 36), (19, 38)]\n"
     ]
    }
   ],
   "source": [
    "print([(x,y) for x in range(2,20) for y in range(20,40) if y%x==0])"
   ]
  },
  {
   "cell_type": "code",
   "execution_count": 95,
   "id": "2e5bf98a",
   "metadata": {},
   "outputs": [
    {
     "name": "stdout",
     "output_type": "stream",
     "text": [
      "Sum of all element is: 111\n",
      "Sum of all element is: 111\n"
     ]
    }
   ],
   "source": [
    "#looping the list\n",
    "lc1=[12,32,14,25,28]\n",
    "s=0\n",
    "for i in lc1:\n",
    "    s=s+i  # or s+=1\n",
    "print(\"Sum of all element is:\",s)\n",
    "print(\"Sum of all element is:\",sum(lc1))"
   ]
  },
  {
   "cell_type": "code",
   "execution_count": 96,
   "id": "a89a3000",
   "metadata": {},
   "outputs": [
    {
     "name": "stdout",
     "output_type": "stream",
     "text": [
      "12 is at index: 0\n",
      "32 is at index: 1\n",
      "14 is at index: 2\n",
      "25 is at index: 3\n",
      "28 is at index: 4\n"
     ]
    }
   ],
   "source": [
    "#enumerate the function it is mostly used to get index of the loop\n",
    "for index, i in enumerate(lc1):\n",
    "    print(i, \"is at index:\",index)"
   ]
  },
  {
   "cell_type": "code",
   "execution_count": 97,
   "id": "9d81106c",
   "metadata": {},
   "outputs": [
    {
     "name": "stdout",
     "output_type": "stream",
     "text": [
      "index :  0\n",
      "index :  1\n",
      "index :  2\n",
      "index :  3\n",
      "index :  4\n"
     ]
    }
   ],
   "source": [
    "# range() function\n",
    "for i in range(len(lc1)):\n",
    "    print(\"index : \",i)"
   ]
  },
  {
   "cell_type": "code",
   "execution_count": 98,
   "id": "019410d9",
   "metadata": {},
   "outputs": [
    {
     "name": "stdout",
     "output_type": "stream",
     "text": [
      "Element at index  0 is: 12\n",
      "Element at index  1 is: 32\n",
      "Element at index  2 is: 14\n",
      "Element at index  3 is: 25\n",
      "Element at index  4 is: 28\n"
     ]
    }
   ],
   "source": [
    "#iterator function\n",
    "it=iter(lc1)\n",
    "for i in range(len(lc1)):\n",
    "    print(\"Element at index \",i,\"is:\",next(it))"
   ]
  },
  {
   "cell_type": "code",
   "execution_count": 99,
   "id": "211d884b",
   "metadata": {},
   "outputs": [
    {
     "name": "stdout",
     "output_type": "stream",
     "text": [
      "[2, 4, 6, 8, 10, 12, 14, 16, 18, 20]\n"
     ]
    }
   ],
   "source": [
    "# filter() function:-It contructs a list from those elements of the list for which a function return true.    \n",
    "#syntax:- filter(function, sequence)\n",
    "def check(x):\n",
    "    if(x%2==0):\n",
    "        return 1\n",
    "even=list(filter(check, range(2,22)))   #after checking value receiving in  list\n",
    "print(even)"
   ]
  },
  {
   "cell_type": "code",
   "execution_count": 100,
   "id": "f027851c",
   "metadata": {},
   "outputs": [
    {
     "name": "stdout",
     "output_type": "stream",
     "text": [
      "Original list is: [1, 2, 3, 4, 5, 6, 7, 8]\n",
      "Updated list is: [3, 4, 5, 6, 7, 8, 9, 10]\n"
     ]
    }
   ],
   "source": [
    "# map() function :-It applies a particular function to every element of the list.Its syntax is similar to filter function.\n",
    "#syntax:-map(function, sequence)\n",
    "def add_2(x):\n",
    "    x+=2\n",
    "    return x\n",
    "lc2=[1,2,3,4,5,6,7,8]\n",
    "print(\"Original list is:\",lc2)\n",
    "nlc2=list(map(add_2, lc2))\n",
    "print(\"Updated list is:\",nlc2)"
   ]
  },
  {
   "cell_type": "code",
   "execution_count": null,
   "id": "fa762b4b",
   "metadata": {},
   "outputs": [],
   "source": []
  }
 ],
 "metadata": {
  "kernelspec": {
   "display_name": "Python 3 (ipykernel)",
   "language": "python",
   "name": "python3"
  },
  "language_info": {
   "codemirror_mode": {
    "name": "ipython",
    "version": 3
   },
   "file_extension": ".py",
   "mimetype": "text/x-python",
   "name": "python",
   "nbconvert_exporter": "python",
   "pygments_lexer": "ipython3",
   "version": "3.10.0"
  }
 },
 "nbformat": 4,
 "nbformat_minor": 5
}
