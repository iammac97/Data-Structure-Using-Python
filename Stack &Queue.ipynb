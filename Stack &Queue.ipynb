{
 "cells": [
  {
   "cell_type": "markdown",
   "id": "a6dd5a51",
   "metadata": {},
   "source": [
    "# Stack"
   ]
  },
  {
   "cell_type": "raw",
   "id": "e7c6e63f",
   "metadata": {},
   "source": [
    "A Stack is a linear data structure that follows the LIFO (Last-In-First-Out) or FILO principle"
   ]
  },
  {
   "cell_type": "code",
   "execution_count": 1,
   "id": "93d20daa",
   "metadata": {},
   "outputs": [
    {
     "data": {
      "text/plain": [
       "[10, 11, 12]"
      ]
     },
     "execution_count": 1,
     "metadata": {},
     "output_type": "execute_result"
    }
   ],
   "source": [
    "#Implemention Stack using List\n",
    "s1=[]\n",
    "#Push Operation\n",
    "s1.append(10)\n",
    "s1.append(11)\n",
    "s1.append(12)\n",
    "s1"
   ]
  },
  {
   "cell_type": "code",
   "execution_count": 2,
   "id": "dc44718a",
   "metadata": {},
   "outputs": [
    {
     "data": {
      "text/plain": [
       "[10, 11]"
      ]
     },
     "execution_count": 2,
     "metadata": {},
     "output_type": "execute_result"
    }
   ],
   "source": [
    "#POP Operation\n",
    "s1.pop()\n",
    "s1"
   ]
  },
  {
   "cell_type": "code",
   "execution_count": 5,
   "id": "2adbeb20",
   "metadata": {},
   "outputs": [
    {
     "ename": "IndexError",
     "evalue": "pop from empty list",
     "output_type": "error",
     "traceback": [
      "\u001b[1;31m---------------------------------------------------------------------------\u001b[0m",
      "\u001b[1;31mIndexError\u001b[0m                                Traceback (most recent call last)",
      "\u001b[1;32m~\\AppData\\Local\\Temp/ipykernel_14216/143796015.py\u001b[0m in \u001b[0;36m<module>\u001b[1;34m\u001b[0m\n\u001b[1;32m----> 1\u001b[1;33m \u001b[0ms1\u001b[0m\u001b[1;33m.\u001b[0m\u001b[0mpop\u001b[0m\u001b[1;33m(\u001b[0m\u001b[1;33m)\u001b[0m\u001b[1;33m\u001b[0m\u001b[1;33m\u001b[0m\u001b[0m\n\u001b[0m\u001b[0;32m      2\u001b[0m \u001b[0ms1\u001b[0m\u001b[1;33m.\u001b[0m\u001b[0mpop\u001b[0m\u001b[1;33m(\u001b[0m\u001b[1;33m)\u001b[0m\u001b[1;33m\u001b[0m\u001b[1;33m\u001b[0m\u001b[0m\n",
      "\u001b[1;31mIndexError\u001b[0m: pop from empty list"
     ]
    }
   ],
   "source": [
    "s1.pop()\n",
    "s1.pop()"
   ]
  },
  {
   "cell_type": "code",
   "execution_count": 6,
   "id": "cf106ca2",
   "metadata": {},
   "outputs": [
    {
     "data": {
      "text/plain": [
       "True"
      ]
     },
     "execution_count": 6,
     "metadata": {},
     "output_type": "execute_result"
    }
   ],
   "source": [
    "#For checking the stack is empty or not\n",
    "len(s1)==0"
   ]
  },
  {
   "cell_type": "code",
   "execution_count": 7,
   "id": "ee81748e",
   "metadata": {},
   "outputs": [
    {
     "data": {
      "text/plain": [
       "True"
      ]
     },
     "execution_count": 7,
     "metadata": {},
     "output_type": "execute_result"
    }
   ],
   "source": [
    "not s1 #For checking the stack is empty or not"
   ]
  },
  {
   "cell_type": "code",
   "execution_count": 8,
   "id": "7389989e",
   "metadata": {},
   "outputs": [
    {
     "data": {
      "text/plain": [
       "[10, 11, 12]"
      ]
     },
     "execution_count": 8,
     "metadata": {},
     "output_type": "execute_result"
    }
   ],
   "source": [
    "s1.append(10)\n",
    "s1.append(11)\n",
    "s1.append(12)\n",
    "s1"
   ]
  },
  {
   "cell_type": "code",
   "execution_count": 9,
   "id": "343c3032",
   "metadata": {},
   "outputs": [
    {
     "data": {
      "text/plain": [
       "12"
      ]
     },
     "execution_count": 9,
     "metadata": {},
     "output_type": "execute_result"
    }
   ],
   "source": [
    "#Last element\n",
    "s1[-1]"
   ]
  },
  {
   "cell_type": "raw",
   "id": "e29d0e2b",
   "metadata": {},
   "source": [
    "Basic operations of Stack using menu driven program"
   ]
  },
  {
   "cell_type": "code",
   "execution_count": 10,
   "id": "0be24e46",
   "metadata": {},
   "outputs": [
    {
     "name": "stdout",
     "output_type": "stream",
     "text": [
      "SELECT THE OPERATION 1.PUSH 2.POP 3.EXIT\n",
      "1\n",
      "ENTER THE ELEMENT:24\n",
      "['24']\n",
      "SELECT THE OPERATION 1.PUSH 2.POP 3.EXIT\n",
      "1\n",
      "ENTER THE ELEMENT:54\n",
      "['24', '54']\n",
      "SELECT THE OPERATION 1.PUSH 2.POP 3.EXIT\n",
      "1\n",
      "ENTER THE ELEMENT:20\n",
      "['24', '54', '20']\n",
      "SELECT THE OPERATION 1.PUSH 2.POP 3.EXIT\n",
      "1\n",
      "ENTER THE ELEMENT:30\n",
      "['24', '54', '20', '30']\n",
      "SELECT THE OPERATION 1.PUSH 2.POP 3.EXIT\n",
      "2\n",
      "REMOVED ELEMENT: 30\n",
      "['24', '54', '20']\n",
      "SELECT THE OPERATION 1.PUSH 2.POP 3.EXIT\n",
      "3\n"
     ]
    }
   ],
   "source": [
    "st1=[]\n",
    "def push():\n",
    "    element=input(\"ENTER THE ELEMENT:\")\n",
    "    st1.append(element)\n",
    "    print(st1)\n",
    "def pop():\n",
    "    if not st1:\n",
    "        print(\"STACK IS EMPTY\")\n",
    "    else:\n",
    "        e=st1.pop()\n",
    "        print(\"REMOVED ELEMENT:\",e)\n",
    "        print(st1)\n",
    "while(True):\n",
    "    print(\"SELECT THE OPERATION 1.PUSH 2.POP 3.EXIT\")\n",
    "    choice = int(input())\n",
    "    if choice == 1:\n",
    "        push()\n",
    "    elif choice == 2:\n",
    "        pop()\n",
    "    elif choice == 3:\n",
    "        break\n",
    "    else:\n",
    "        print(\"ENTER VALID CHOICE...\")\n",
    "    "
   ]
  },
  {
   "cell_type": "code",
   "execution_count": 13,
   "id": "962c97f6",
   "metadata": {},
   "outputs": [
    {
     "name": "stdout",
     "output_type": "stream",
     "text": [
      "ENTER THE ELEMENT LIMIT:5\n",
      "SELECT THE OPERATION 1.PUSH 2.POP 3.EXIT\n",
      "1\n",
      "ENTER THE ELEMENT:10\n",
      "['10']\n",
      "SELECT THE OPERATION 1.PUSH 2.POP 3.EXIT\n",
      "1\n",
      "ENTER THE ELEMENT:20\n",
      "['10', '20']\n",
      "SELECT THE OPERATION 1.PUSH 2.POP 3.EXIT\n",
      "1\n",
      "ENTER THE ELEMENT:25\n",
      "['10', '20', '25']\n",
      "SELECT THE OPERATION 1.PUSH 2.POP 3.EXIT\n",
      "1\n",
      "ENTER THE ELEMENT:30\n",
      "['10', '20', '25', '30']\n",
      "SELECT THE OPERATION 1.PUSH 2.POP 3.EXIT\n",
      "1\n",
      "ENTER THE ELEMENT:54\n",
      "['10', '20', '25', '30', '54']\n",
      "SELECT THE OPERATION 1.PUSH 2.POP 3.EXIT\n",
      "1\n",
      "STACK IS Full!\n",
      "SELECT THE OPERATION 1.PUSH 2.POP 3.EXIT\n",
      "2\n",
      "REMOVED ELEMENT: 54\n",
      "['10', '20', '25', '30']\n",
      "SELECT THE OPERATION 1.PUSH 2.POP 3.EXIT\n",
      "2\n",
      "REMOVED ELEMENT: 30\n",
      "['10', '20', '25']\n",
      "SELECT THE OPERATION 1.PUSH 2.POP 3.EXIT\n",
      "1\n",
      "ENTER THE ELEMENT:35\n",
      "['10', '20', '25', '35']\n",
      "SELECT THE OPERATION 1.PUSH 2.POP 3.EXIT\n",
      "3\n"
     ]
    }
   ],
   "source": [
    "st1=[]\n",
    "def push():\n",
    "    if(len(st1)==n):\n",
    "        print(\"STACK IS Full!\")\n",
    "    else:\n",
    "        element=input(\"ENTER THE ELEMENT:\")\n",
    "        st1.append(element)\n",
    "        print(st1)\n",
    "def pop():\n",
    "    if not st1:\n",
    "        print(\"STACK IS EMPTY\")\n",
    "    else:\n",
    "        e=st1.pop()\n",
    "        print(\"REMOVED ELEMENT:\",e)\n",
    "        print(st1)\n",
    "n=int(input(\"ENTER THE ELEMENT LIMIT:\"))\n",
    "while(True):\n",
    "    print(\"SELECT THE OPERATION 1.PUSH 2.POP 3.EXIT\")\n",
    "    choice = int(input())\n",
    "    if choice == 1:\n",
    "        push()\n",
    "    elif choice == 2:\n",
    "        pop()\n",
    "    elif choice == 3:\n",
    "        break\n",
    "    else:\n",
    "        print(\"ENTER VALID CHOICE...\")"
   ]
  },
  {
   "cell_type": "code",
   "execution_count": 14,
   "id": "aa634e43",
   "metadata": {},
   "outputs": [
    {
     "data": {
      "text/plain": [
       "deque([])"
      ]
     },
     "execution_count": 14,
     "metadata": {},
     "output_type": "execute_result"
    }
   ],
   "source": [
    "#Stack using Collection module(deque)\n",
    "import collections\n",
    "st2=collections.deque()\n",
    "st2"
   ]
  },
  {
   "cell_type": "code",
   "execution_count": 15,
   "id": "488646df",
   "metadata": {},
   "outputs": [],
   "source": [
    "st2.append(10)\n",
    "st2.append(20)\n",
    "st2.append(30)\n",
    "st2.append(40)\n",
    "st2.append(50)"
   ]
  },
  {
   "cell_type": "code",
   "execution_count": 16,
   "id": "929110f4",
   "metadata": {},
   "outputs": [
    {
     "data": {
      "text/plain": [
       "deque([10, 20, 30, 40, 50])"
      ]
     },
     "execution_count": 16,
     "metadata": {},
     "output_type": "execute_result"
    }
   ],
   "source": [
    "st2"
   ]
  },
  {
   "cell_type": "code",
   "execution_count": 17,
   "id": "e45f81eb",
   "metadata": {},
   "outputs": [
    {
     "data": {
      "text/plain": [
       "50"
      ]
     },
     "execution_count": 17,
     "metadata": {},
     "output_type": "execute_result"
    }
   ],
   "source": [
    "st2.pop()"
   ]
  },
  {
   "cell_type": "code",
   "execution_count": 18,
   "id": "c7e4c005",
   "metadata": {},
   "outputs": [],
   "source": [
    "#Stack using Queue module(lifoqueue)\n",
    "import queue\n",
    "st3=queue.LifoQueue()\n",
    "st3.put(10)#for pushing the element\n",
    "st3.put(20)\n",
    "st3.put(30)\n",
    "st3.put(40)\n",
    "st3.put(50)"
   ]
  },
  {
   "cell_type": "code",
   "execution_count": 19,
   "id": "c6787442",
   "metadata": {},
   "outputs": [
    {
     "data": {
      "text/plain": [
       "50"
      ]
     },
     "execution_count": 19,
     "metadata": {},
     "output_type": "execute_result"
    }
   ],
   "source": [
    "st3.get()#for popping the element"
   ]
  },
  {
   "cell_type": "code",
   "execution_count": 20,
   "id": "2fe7212c",
   "metadata": {},
   "outputs": [
    {
     "data": {
      "text/plain": [
       "40"
      ]
     },
     "execution_count": 20,
     "metadata": {},
     "output_type": "execute_result"
    }
   ],
   "source": [
    "st3.get()#If we pop after empty queue the it will not through error only go in wait state"
   ]
  },
  {
   "cell_type": "code",
   "execution_count": 21,
   "id": "2f55f003",
   "metadata": {},
   "outputs": [],
   "source": [
    "#For solve the wait state problem we have to define the size of the queue\n",
    "import queue\n",
    "st4=queue.LifoQueue(3)#Now we can not push/put more than 3 element\n",
    "st4.put(10)\n",
    "st4.put(20)\n",
    "st4.put(30)"
   ]
  },
  {
   "cell_type": "code",
   "execution_count": 22,
   "id": "4df94978",
   "metadata": {},
   "outputs": [
    {
     "ename": "Full",
     "evalue": "",
     "output_type": "error",
     "traceback": [
      "\u001b[1;31m---------------------------------------------------------------------------\u001b[0m",
      "\u001b[1;31mFull\u001b[0m                                      Traceback (most recent call last)",
      "\u001b[1;32m~\\AppData\\Local\\Temp/ipykernel_14216/2299220909.py\u001b[0m in \u001b[0;36m<module>\u001b[1;34m\u001b[0m\n\u001b[1;32m----> 1\u001b[1;33m \u001b[0mst4\u001b[0m\u001b[1;33m.\u001b[0m\u001b[0mput\u001b[0m\u001b[1;33m(\u001b[0m\u001b[1;36m40\u001b[0m\u001b[1;33m,\u001b[0m\u001b[0mtimeout\u001b[0m\u001b[1;33m=\u001b[0m\u001b[1;36m1\u001b[0m\u001b[1;33m)\u001b[0m\u001b[1;33m\u001b[0m\u001b[1;33m\u001b[0m\u001b[0m\n\u001b[0m",
      "\u001b[1;32m~\\AppData\\Local\\Programs\\Python\\Python310\\lib\\queue.py\u001b[0m in \u001b[0;36mput\u001b[1;34m(self, item, block, timeout)\u001b[0m\n\u001b[0;32m    146\u001b[0m                         \u001b[0mremaining\u001b[0m \u001b[1;33m=\u001b[0m \u001b[0mendtime\u001b[0m \u001b[1;33m-\u001b[0m \u001b[0mtime\u001b[0m\u001b[1;33m(\u001b[0m\u001b[1;33m)\u001b[0m\u001b[1;33m\u001b[0m\u001b[1;33m\u001b[0m\u001b[0m\n\u001b[0;32m    147\u001b[0m                         \u001b[1;32mif\u001b[0m \u001b[0mremaining\u001b[0m \u001b[1;33m<=\u001b[0m \u001b[1;36m0.0\u001b[0m\u001b[1;33m:\u001b[0m\u001b[1;33m\u001b[0m\u001b[1;33m\u001b[0m\u001b[0m\n\u001b[1;32m--> 148\u001b[1;33m                             \u001b[1;32mraise\u001b[0m \u001b[0mFull\u001b[0m\u001b[1;33m\u001b[0m\u001b[1;33m\u001b[0m\u001b[0m\n\u001b[0m\u001b[0;32m    149\u001b[0m                         \u001b[0mself\u001b[0m\u001b[1;33m.\u001b[0m\u001b[0mnot_full\u001b[0m\u001b[1;33m.\u001b[0m\u001b[0mwait\u001b[0m\u001b[1;33m(\u001b[0m\u001b[0mremaining\u001b[0m\u001b[1;33m)\u001b[0m\u001b[1;33m\u001b[0m\u001b[1;33m\u001b[0m\u001b[0m\n\u001b[0;32m    150\u001b[0m             \u001b[0mself\u001b[0m\u001b[1;33m.\u001b[0m\u001b[0m_put\u001b[0m\u001b[1;33m(\u001b[0m\u001b[0mitem\u001b[0m\u001b[1;33m)\u001b[0m\u001b[1;33m\u001b[0m\u001b[1;33m\u001b[0m\u001b[0m\n",
      "\u001b[1;31mFull\u001b[0m: "
     ]
    }
   ],
   "source": [
    "st4.put(40,timeout=1)"
   ]
  },
  {
   "cell_type": "code",
   "execution_count": 23,
   "id": "decef667",
   "metadata": {},
   "outputs": [
    {
     "data": {
      "text/plain": [
       "30"
      ]
     },
     "execution_count": 23,
     "metadata": {},
     "output_type": "execute_result"
    }
   ],
   "source": [
    "st4.get()"
   ]
  },
  {
   "cell_type": "code",
   "execution_count": 24,
   "id": "b0a71ff5",
   "metadata": {},
   "outputs": [
    {
     "data": {
      "text/plain": [
       "20"
      ]
     },
     "execution_count": 24,
     "metadata": {},
     "output_type": "execute_result"
    }
   ],
   "source": [
    "st4.get()"
   ]
  },
  {
   "cell_type": "code",
   "execution_count": 25,
   "id": "8d41080e",
   "metadata": {},
   "outputs": [
    {
     "data": {
      "text/plain": [
       "10"
      ]
     },
     "execution_count": 25,
     "metadata": {},
     "output_type": "execute_result"
    }
   ],
   "source": [
    "st4.get()"
   ]
  },
  {
   "cell_type": "markdown",
   "id": "024ee583",
   "metadata": {},
   "source": [
    "# Queue"
   ]
  },
  {
   "cell_type": "raw",
   "id": "441e2393",
   "metadata": {},
   "source": [
    "A Queue is a linear data structure that follows the FIFO (First-In-First-Out) or LILO principle\n",
    "\n",
    "operating of adding in the queue is known as enqueue and removing of element is known as dequeue"
   ]
  },
  {
   "cell_type": "code",
   "execution_count": 1,
   "id": "b656ef51",
   "metadata": {},
   "outputs": [],
   "source": [
    "# Queue using List  (List provides O(n) time complexityn for push and pop)\n",
    "que=[]\n",
    "que.append(12)\n",
    "que.append(13)\n",
    "que.append(14)\n",
    "que.append(15)"
   ]
  },
  {
   "cell_type": "code",
   "execution_count": 3,
   "id": "2db049d6",
   "metadata": {},
   "outputs": [
    {
     "data": {
      "text/plain": [
       "[12, 13, 14, 15]"
      ]
     },
     "execution_count": 3,
     "metadata": {},
     "output_type": "execute_result"
    }
   ],
   "source": [
    "que"
   ]
  },
  {
   "cell_type": "code",
   "execution_count": 4,
   "id": "51421b5c",
   "metadata": {},
   "outputs": [
    {
     "data": {
      "text/plain": [
       "12"
      ]
     },
     "execution_count": 4,
     "metadata": {},
     "output_type": "execute_result"
    }
   ],
   "source": [
    "que.pop(0)# for queue implementation we have to pop from start index"
   ]
  },
  {
   "cell_type": "code",
   "execution_count": 5,
   "id": "c9e87ca1",
   "metadata": {},
   "outputs": [
    {
     "data": {
      "text/plain": [
       "15"
      ]
     },
     "execution_count": 5,
     "metadata": {},
     "output_type": "execute_result"
    }
   ],
   "source": [
    "que.pop(0)\n",
    "que.pop(0)\n",
    "que.pop(0)"
   ]
  },
  {
   "cell_type": "code",
   "execution_count": 6,
   "id": "0024ee02",
   "metadata": {},
   "outputs": [
    {
     "ename": "IndexError",
     "evalue": "pop from empty list",
     "output_type": "error",
     "traceback": [
      "\u001b[1;31m---------------------------------------------------------------------------\u001b[0m",
      "\u001b[1;31mIndexError\u001b[0m                                Traceback (most recent call last)",
      "\u001b[1;32m~\\AppData\\Local\\Temp/ipykernel_12268/882131888.py\u001b[0m in \u001b[0;36m<module>\u001b[1;34m\u001b[0m\n\u001b[1;32m----> 1\u001b[1;33m \u001b[0mque\u001b[0m\u001b[1;33m.\u001b[0m\u001b[0mpop\u001b[0m\u001b[1;33m(\u001b[0m\u001b[1;36m0\u001b[0m\u001b[1;33m)\u001b[0m\u001b[1;33m\u001b[0m\u001b[1;33m\u001b[0m\u001b[0m\n\u001b[0m",
      "\u001b[1;31mIndexError\u001b[0m: pop from empty list"
     ]
    }
   ],
   "source": [
    "que.pop(0)"
   ]
  },
  {
   "cell_type": "code",
   "execution_count": 7,
   "id": "2d1ab5f4",
   "metadata": {},
   "outputs": [],
   "source": [
    "#Another way to insert elements  index:-queuename.insert(index,value)\n",
    "que.insert(0,10)"
   ]
  },
  {
   "cell_type": "code",
   "execution_count": 8,
   "id": "eba00317",
   "metadata": {},
   "outputs": [],
   "source": [
    "que.insert(0,20)"
   ]
  },
  {
   "cell_type": "code",
   "execution_count": 9,
   "id": "897fb957",
   "metadata": {},
   "outputs": [
    {
     "data": {
      "text/plain": [
       "[20, 10]"
      ]
     },
     "execution_count": 9,
     "metadata": {},
     "output_type": "execute_result"
    }
   ],
   "source": [
    "que"
   ]
  },
  {
   "cell_type": "code",
   "execution_count": 10,
   "id": "ad1c901e",
   "metadata": {},
   "outputs": [
    {
     "data": {
      "text/plain": [
       "10"
      ]
     },
     "execution_count": 10,
     "metadata": {},
     "output_type": "execute_result"
    }
   ],
   "source": [
    "que.pop()# here we have to remove last element because we add the element from last"
   ]
  },
  {
   "cell_type": "code",
   "execution_count": 11,
   "id": "810571f3",
   "metadata": {},
   "outputs": [
    {
     "ename": "IndexError",
     "evalue": "pop from empty list",
     "output_type": "error",
     "traceback": [
      "\u001b[1;31m---------------------------------------------------------------------------\u001b[0m",
      "\u001b[1;31mIndexError\u001b[0m                                Traceback (most recent call last)",
      "\u001b[1;32m~\\AppData\\Local\\Temp/ipykernel_12268/3559054035.py\u001b[0m in \u001b[0;36m<module>\u001b[1;34m\u001b[0m\n\u001b[0;32m      1\u001b[0m \u001b[0mque\u001b[0m\u001b[1;33m.\u001b[0m\u001b[0mpop\u001b[0m\u001b[1;33m(\u001b[0m\u001b[1;33m)\u001b[0m\u001b[1;33m\u001b[0m\u001b[1;33m\u001b[0m\u001b[0m\n\u001b[1;32m----> 2\u001b[1;33m \u001b[0mque\u001b[0m\u001b[1;33m.\u001b[0m\u001b[0mpop\u001b[0m\u001b[1;33m(\u001b[0m\u001b[1;33m)\u001b[0m\u001b[1;33m\u001b[0m\u001b[1;33m\u001b[0m\u001b[0m\n\u001b[0m",
      "\u001b[1;31mIndexError\u001b[0m: pop from empty list"
     ]
    }
   ],
   "source": [
    "que.pop()\n",
    "que.pop()"
   ]
  },
  {
   "cell_type": "code",
   "execution_count": 12,
   "id": "d5d78f7a",
   "metadata": {},
   "outputs": [
    {
     "data": {
      "text/plain": [
       "[]"
      ]
     },
     "execution_count": 12,
     "metadata": {},
     "output_type": "execute_result"
    }
   ],
   "source": [
    "que"
   ]
  },
  {
   "cell_type": "raw",
   "id": "0f2ef005",
   "metadata": {},
   "source": [
    "Basic operations of Queue using menu driven program"
   ]
  },
  {
   "cell_type": "code",
   "execution_count": 14,
   "id": "2a30768e",
   "metadata": {},
   "outputs": [
    {
     "name": "stdout",
     "output_type": "stream",
     "text": [
      "Select the operation:-\n",
      " 1.Add 2.Remove 3.Display 4.Exit\n",
      "1\n",
      "Enter the element to push:25\n",
      "25 is added in queue!\n",
      "Select the operation:-\n",
      " 1.Add 2.Remove 3.Display 4.Exit\n",
      "1\n",
      "Enter the element to push:80\n",
      "80 is added in queue!\n",
      "Select the operation:-\n",
      " 1.Add 2.Remove 3.Display 4.Exit\n",
      "1\n",
      "Enter the element to push:20\n",
      "20 is added in queue!\n",
      "Select the operation:-\n",
      " 1.Add 2.Remove 3.Display 4.Exit\n",
      "1\n",
      "Enter the element to push:10\n",
      "10 is added in queue!\n",
      "Select the operation:-\n",
      " 1.Add 2.Remove 3.Display 4.Exit\n",
      "3\n",
      "['25', '80', '20', '10']\n",
      "Select the operation:-\n",
      " 1.Add 2.Remove 3.Display 4.Exit\n",
      "2\n",
      "Removed element  25\n",
      "Select the operation:-\n",
      " 1.Add 2.Remove 3.Display 4.Exit\n",
      "3\n",
      "['80', '20', '10']\n",
      "Select the operation:-\n",
      " 1.Add 2.Remove 3.Display 4.Exit\n",
      "4\n"
     ]
    }
   ],
   "source": [
    "que=[]\n",
    "def equeue():\n",
    "    ele=input(\"Enter the element to push:\")\n",
    "    que.append(ele)\n",
    "    print(ele,\"is added in queue!\")\n",
    "    \n",
    "def dequeue():\n",
    "    if not que:\n",
    "        print(\"Queue is already empty!\")\n",
    "    else:\n",
    "        e=que.pop(0)\n",
    "        print(\"Removed element \",e)\n",
    "def display():\n",
    "    print(que)\n",
    "while(True):\n",
    "    print(\"Select the operation:-\\n 1.Add 2.Remove 3.Display 4.Exit\")\n",
    "    choice=int(input())\n",
    "    if(choice==1):\n",
    "        equeue()\n",
    "    elif(choice==2):\n",
    "        dequeue()\n",
    "    elif(choice==3):\n",
    "        display()\n",
    "    elif(choice==4):\n",
    "        break\n",
    "    else:\n",
    "        print(\"Enter the valid operation!\")\n",
    "        continue"
   ]
  },
  {
   "cell_type": "code",
   "execution_count": 15,
   "id": "67807624",
   "metadata": {},
   "outputs": [],
   "source": [
    "#Implement queue using deque(double ended) class from the collection module\n",
    "#deque provides an O(1) time complexity for append and pop operations\n",
    "\n",
    "#append() :- This function is used to insert the value in its argument to the right end of deque.\n",
    "#appendleft() :- This function is used to insert the value in its argument to the left end of deque.\n",
    "#pop() :- This function is used to delete an argument from the right end of deque.\n",
    "#popleft() :- This function is used to delete an argument from the left end of deque. "
   ]
  },
  {
   "cell_type": "code",
   "execution_count": 16,
   "id": "b2afe31d",
   "metadata": {},
   "outputs": [],
   "source": [
    "import collections\n",
    "q=collections.deque()\n",
    "q.append(10)#used for insert to rightend\n",
    "q.append(20)\n",
    "q.append(30)"
   ]
  },
  {
   "cell_type": "code",
   "execution_count": 17,
   "id": "d9c0178d",
   "metadata": {},
   "outputs": [
    {
     "data": {
      "text/plain": [
       "deque([10, 20, 30])"
      ]
     },
     "execution_count": 17,
     "metadata": {},
     "output_type": "execute_result"
    }
   ],
   "source": [
    "q"
   ]
  },
  {
   "cell_type": "code",
   "execution_count": 18,
   "id": "0f7ebeae",
   "metadata": {},
   "outputs": [
    {
     "data": {
      "text/plain": [
       "20"
      ]
     },
     "execution_count": 18,
     "metadata": {},
     "output_type": "execute_result"
    }
   ],
   "source": [
    "q.popleft()#remove element from leftend\n",
    "q.popleft()"
   ]
  },
  {
   "cell_type": "code",
   "execution_count": 20,
   "id": "7637c5f6",
   "metadata": {},
   "outputs": [
    {
     "ename": "IndexError",
     "evalue": "pop from an empty deque",
     "output_type": "error",
     "traceback": [
      "\u001b[1;31m---------------------------------------------------------------------------\u001b[0m",
      "\u001b[1;31mIndexError\u001b[0m                                Traceback (most recent call last)",
      "\u001b[1;32m~\\AppData\\Local\\Temp/ipykernel_12268/3009220604.py\u001b[0m in \u001b[0;36m<module>\u001b[1;34m\u001b[0m\n\u001b[1;32m----> 1\u001b[1;33m \u001b[0mq\u001b[0m\u001b[1;33m.\u001b[0m\u001b[0mpopleft\u001b[0m\u001b[1;33m(\u001b[0m\u001b[1;33m)\u001b[0m\u001b[1;33m\u001b[0m\u001b[1;33m\u001b[0m\u001b[0m\n\u001b[0m",
      "\u001b[1;31mIndexError\u001b[0m: pop from an empty deque"
     ]
    }
   ],
   "source": [
    "q.popleft()"
   ]
  },
  {
   "cell_type": "code",
   "execution_count": 21,
   "id": "5f0de45a",
   "metadata": {},
   "outputs": [
    {
     "data": {
      "text/plain": [
       "True"
      ]
     },
     "execution_count": 21,
     "metadata": {},
     "output_type": "execute_result"
    }
   ],
   "source": [
    "not q#retuen true if deque is empty "
   ]
  },
  {
   "cell_type": "code",
   "execution_count": 28,
   "id": "db5b9c95",
   "metadata": {},
   "outputs": [],
   "source": [
    "import collections\n",
    "q=collections.deque()\n",
    "q.appendleft(10)#used for insert to leftend\n",
    "q.appendleft(20)\n",
    "q.appendleft(30)"
   ]
  },
  {
   "cell_type": "code",
   "execution_count": 29,
   "id": "ff20a390",
   "metadata": {},
   "outputs": [
    {
     "data": {
      "text/plain": [
       "deque([30, 20, 10])"
      ]
     },
     "execution_count": 29,
     "metadata": {},
     "output_type": "execute_result"
    }
   ],
   "source": [
    "q"
   ]
  },
  {
   "cell_type": "code",
   "execution_count": 30,
   "id": "9eaf9132",
   "metadata": {},
   "outputs": [
    {
     "data": {
      "text/plain": [
       "10"
      ]
     },
     "execution_count": 30,
     "metadata": {},
     "output_type": "execute_result"
    }
   ],
   "source": [
    "q.pop()#pop from rightend"
   ]
  },
  {
   "cell_type": "code",
   "execution_count": 31,
   "id": "6f7937b2",
   "metadata": {},
   "outputs": [
    {
     "data": {
      "text/plain": [
       "30"
      ]
     },
     "execution_count": 31,
     "metadata": {},
     "output_type": "execute_result"
    }
   ],
   "source": [
    "q.pop()\n",
    "q.pop()"
   ]
  },
  {
   "cell_type": "code",
   "execution_count": 32,
   "id": "9d5b71dc",
   "metadata": {},
   "outputs": [
    {
     "data": {
      "text/plain": [
       "True"
      ]
     },
     "execution_count": 32,
     "metadata": {},
     "output_type": "execute_result"
    }
   ],
   "source": [
    "not q"
   ]
  },
  {
   "cell_type": "code",
   "execution_count": 33,
   "id": "f5ffe8ed",
   "metadata": {},
   "outputs": [],
   "source": [
    "#Stack using Queue module\n",
    "import queue\n",
    "q1=queue.Queue()\n",
    "q1.put(10)#for pushing the element\n",
    "q1.put(20)\n",
    "q1.put(30)\n",
    "q1.put(40)\n",
    "q1.put(50)"
   ]
  },
  {
   "cell_type": "code",
   "execution_count": 34,
   "id": "c0591fd1",
   "metadata": {},
   "outputs": [
    {
     "data": {
      "text/plain": [
       "<queue.Queue at 0x24e8ca36e90>"
      ]
     },
     "execution_count": 34,
     "metadata": {},
     "output_type": "execute_result"
    }
   ],
   "source": [
    "q1  #it will not show any o/p only show object"
   ]
  },
  {
   "cell_type": "code",
   "execution_count": 35,
   "id": "24548229",
   "metadata": {},
   "outputs": [
    {
     "data": {
      "text/plain": [
       "10"
      ]
     },
     "execution_count": 35,
     "metadata": {},
     "output_type": "execute_result"
    }
   ],
   "source": [
    "q1.get()#for popping the element"
   ]
  },
  {
   "cell_type": "code",
   "execution_count": 36,
   "id": "70a78912",
   "metadata": {},
   "outputs": [
    {
     "data": {
      "text/plain": [
       "40"
      ]
     },
     "execution_count": 36,
     "metadata": {},
     "output_type": "execute_result"
    }
   ],
   "source": [
    "q1.get()\n",
    "q1.get()\n",
    "q1.get()"
   ]
  },
  {
   "cell_type": "code",
   "execution_count": 37,
   "id": "03c2c0c2",
   "metadata": {},
   "outputs": [
    {
     "data": {
      "text/plain": [
       "50"
      ]
     },
     "execution_count": 37,
     "metadata": {},
     "output_type": "execute_result"
    }
   ],
   "source": [
    "q1.get()  # we can also used limit "
   ]
  },
  {
   "cell_type": "raw",
   "id": "cf46c138",
   "metadata": {},
   "source": [
    "#Priority Queue:\n",
    "#1.Every item has a priority associated with it.\n",
    "#2.An element with high priority is dequeued before an element with low priority.\n",
    "#3.If two elements have the same priority, they are served according to their order in the queue."
   ]
  },
  {
   "cell_type": "code",
   "execution_count": 38,
   "id": "e369b1e5",
   "metadata": {},
   "outputs": [],
   "source": [
    "#1.Priority queue using list sorting\n",
    "#Assume that lowest element ha\n",
    "q1=[]\n",
    "q1.append(12)"
   ]
  },
  {
   "cell_type": "code",
   "execution_count": 39,
   "id": "b3c6aba8",
   "metadata": {},
   "outputs": [],
   "source": [
    "q1.append(43)"
   ]
  },
  {
   "cell_type": "code",
   "execution_count": 40,
   "id": "540159a4",
   "metadata": {},
   "outputs": [],
   "source": [
    "q1.append(12)"
   ]
  },
  {
   "cell_type": "code",
   "execution_count": 41,
   "id": "d6a1e288",
   "metadata": {},
   "outputs": [],
   "source": [
    "q1.append(10)"
   ]
  },
  {
   "cell_type": "code",
   "execution_count": 42,
   "id": "8a495550",
   "metadata": {},
   "outputs": [],
   "source": [
    "q1.append(5)"
   ]
  },
  {
   "cell_type": "code",
   "execution_count": 43,
   "id": "09e1515b",
   "metadata": {},
   "outputs": [
    {
     "data": {
      "text/plain": [
       "[12, 43, 12, 10, 5]"
      ]
     },
     "execution_count": 43,
     "metadata": {},
     "output_type": "execute_result"
    }
   ],
   "source": [
    "q1"
   ]
  },
  {
   "cell_type": "code",
   "execution_count": 44,
   "id": "cdb1fdbd",
   "metadata": {},
   "outputs": [],
   "source": [
    "q1.sort()#because lowest element has highest priority"
   ]
  },
  {
   "cell_type": "code",
   "execution_count": 45,
   "id": "2ad1d6f4",
   "metadata": {},
   "outputs": [
    {
     "data": {
      "text/plain": [
       "[5, 10, 12, 12, 43]"
      ]
     },
     "execution_count": 45,
     "metadata": {},
     "output_type": "execute_result"
    }
   ],
   "source": [
    "q1"
   ]
  },
  {
   "cell_type": "code",
   "execution_count": null,
   "id": "d3f5956c",
   "metadata": {},
   "outputs": [],
   "source": [
    "q1.pop(0) #we have to pop element based on priority"
   ]
  }
 ],
 "metadata": {
  "kernelspec": {
   "display_name": "Python 3 (ipykernel)",
   "language": "python",
   "name": "python3"
  },
  "language_info": {
   "codemirror_mode": {
    "name": "ipython",
    "version": 3
   },
   "file_extension": ".py",
   "mimetype": "text/x-python",
   "name": "python",
   "nbconvert_exporter": "python",
   "pygments_lexer": "ipython3",
   "version": "3.10.0"
  }
 },
 "nbformat": 4,
 "nbformat_minor": 5
}
